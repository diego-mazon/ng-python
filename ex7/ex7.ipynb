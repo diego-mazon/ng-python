{
 "cells": [
  {
   "cell_type": "code",
   "execution_count": null,
   "metadata": {
    "collapsed": true
   },
   "outputs": [],
   "source": [
    "import pandas as pd\n",
    "import numpy as np\n",
    "import matplotlib.pyplot as plt\n",
    "%matplotlib inline"
   ]
  },
  {
   "cell_type": "markdown",
   "metadata": {},
   "source": [
    "# K-means"
   ]
  },
  {
   "cell_type": "code",
   "execution_count": null,
   "metadata": {
    "collapsed": true
   },
   "outputs": [],
   "source": [
    "from scipy.spatial import distance\n",
    "def Kmeans(X, K=3, distance=distance.euclidean,  n_iter=1e+4, tol=None, \n",
    "           scale=\"max\", plot=False):\n",
    "    if scale==\"standard\":\n",
    "        X = 1.* (X - X.mean(axis=0)) / X.std(axis=0)\n",
    "    if scale==\"max\":\n",
    "        X = 1. * X/X.max()\n",
    "    m = len(X)\n",
    "    centers = X[np.random.randint(0, m, K), : ]\n",
    "    new_centers = np.zeros((K, X.shape[1]))\n",
    "    # indices tells to which center belongs each point\n",
    "    indices = np.zeros(m)\n",
    "    for a in range(n_iter):\n",
    "        for i, point in enumerate(X):\n",
    "            distance_to_centers = [distance(point, center) for center in centers]\n",
    "            indices[i] = np.argmin(distance_to_centers)\n",
    "        \n",
    "        for i in range(K):\n",
    "            new_centers[i] = X[indices==i].mean(axis=0)\n",
    "            \n",
    "        if tol and np.max([distance(new_centers[j], centers[j]) for j in range(K)]) < tol:\n",
    "            centers = new_centers\n",
    "            break\n",
    "        \n",
    "        centers = new_centers\n",
    "    if plot: \n",
    "        plt.scatter(centers[:,0], centers[:,1], marker='x', c='black', s=50, alpha=1)\n",
    "        plt.scatter(X[:,0], X[:,1], c=indices, alpha=0.5)\n",
    "        plt.show()\n",
    "\n",
    "    return centers, indices\n",
    "            \n",
    "        \n",
    "        "
   ]
  },
  {
   "cell_type": "code",
   "execution_count": null,
   "metadata": {
    "collapsed": false
   },
   "outputs": [],
   "source": [
    "import scipy.io\n",
    "a = scipy.io.loadmat('mlclass-ex7/ex7data2.mat')\n",
    "X = a['X']\n",
    "print(X.shape)\n",
    "centers, indices = Kmeans(X, K=3, scale='standard', distance=distance.euclidean,  n_iter=100, \n",
    "                         plot=True)\n",
    "print(\"centers\", centers)\n",
    "print(\"np.unique(indices)\", np.unique(indices))"
   ]
  },
  {
   "cell_type": "markdown",
   "metadata": {},
   "source": [
    "# K-means to reduce number of colors of an image, so that it fits in memory better"
   ]
  },
  {
   "cell_type": "code",
   "execution_count": null,
   "metadata": {
    "collapsed": false
   },
   "outputs": [],
   "source": [
    "# 128 x 128 pixels. 3 colors (RGB). Color\"intensity/tone\" is described by a number \n",
    "# within the range 0-255. As 256=2**8, each color requires 8 bits. Overall we need\n",
    "# 128x128x3x8 bits (393216 bits)\n",
    "from scipy import misc\n",
    "A = misc.imread('mlclass-ex7/bird_small.png')\n",
    "print(type(A), A.shape)\n",
    "plt.imshow(A)"
   ]
  },
  {
   "cell_type": "code",
   "execution_count": null,
   "metadata": {
    "collapsed": false
   },
   "outputs": [],
   "source": [
    "# Let reshape the array in such a way that we have all pixels (horizontal and vertical) \n",
    "# in rows and colors in columns\n",
    "m = A.shape[0]*A.shape[1]\n",
    "X = A.reshape(m, A.shape[2])\n",
    "print(type(X), X.shape)"
   ]
  },
  {
   "cell_type": "markdown",
   "metadata": {},
   "source": [
    "## Centers contain the k=16 most meaningful color combinations (clusters). indices assign each pixel of the original image to one of the 16 clusters (each of cluster requires 3x8 bits, but each pixel now requires only 4 bits, as 2**4=16). So the number of bits we are using is 16x3x8 + 128x128x4 = 65920, which is the 17% of the original image"
   ]
  },
  {
   "cell_type": "code",
   "execution_count": null,
   "metadata": {
    "collapsed": false
   },
   "outputs": [],
   "source": [
    "# The recovered image is bad\n",
    "centers, indices = Kmeans(X, K=16, scale=\"standard\", n_iter=10)\n",
    "indices = map(lambda x: int(x), indices)\n",
    "X_recovered = centers[indices,:]\n",
    "X_recovered = X_recovered.reshape(A.shape[0], A.shape[1], 3)\n",
    "plt.imshow(X_recovered);"
   ]
  },
  {
   "cell_type": "code",
   "execution_count": null,
   "metadata": {
    "collapsed": false
   },
   "outputs": [],
   "source": [
    "# Again, the recovered image is bad, even with 30 centers. As we will see the reason is\n",
    "# we are using standard scaling, rather than dividing by the maximum value, so that all\n",
    "# values are within the range 0 to 1\n",
    "\n",
    "centers, indices = Kmeans(X, K=30, scale=\"standard\",  n_iter=10)\n",
    "indices = map(lambda x: int(x), indices)\n",
    "X_recovered = centers[indices,:]\n",
    "X_recovered = X_recovered.reshape(A.shape[0], A.shape[1], 3)\n",
    "plt.imshow(X_recovered);"
   ]
  },
  {
   "cell_type": "code",
   "execution_count": null,
   "metadata": {
    "collapsed": false
   },
   "outputs": [],
   "source": [
    "# Much better with max scaling\n",
    "\n",
    "centers, indices = Kmeans(X, K=30, scale=\"max\",  n_iter=10)\n",
    "indices = map(lambda x: int(x), indices)\n",
    "X_recovered = centers[indices,:]\n",
    "X_recovered = X_recovered.reshape(A.shape[0], A.shape[1], 3)\n",
    "plt.imshow(X_recovered);"
   ]
  },
  {
   "cell_type": "code",
   "execution_count": null,
   "metadata": {
    "collapsed": false
   },
   "outputs": [],
   "source": [
    "# Even for K=16 the recovered image is quite good\n",
    "\n",
    "centers, indices = Kmeans(X, K=16, scale=\"max\", n_iter=10)\n",
    "indices = map(lambda x: int(x), indices)\n",
    "X_recovered = centers[indices,:]\n",
    "X_recovered = X_recovered.reshape(A.shape[0], A.shape[1], 3)\n",
    "plt.imshow(X_recovered);"
   ]
  },
  {
   "cell_type": "code",
   "execution_count": null,
   "metadata": {
    "collapsed": false
   },
   "outputs": [],
   "source": [
    "# K=5 and max scaling beats K=30 and standard scaling\n",
    "\n",
    "centers, indices = Kmeans(X, K=5, scale=\"max\", n_iter=10)\n",
    "indices = map(lambda x: int(x), indices)\n",
    "X_recovered = centers[indices,:]\n",
    "X_recovered = X_recovered.reshape(A.shape[0], A.shape[1], 3)\n",
    "plt.imshow(X_recovered);"
   ]
  },
  {
   "cell_type": "markdown",
   "metadata": {},
   "source": [
    "# PCA"
   ]
  },
  {
   "cell_type": "code",
   "execution_count": null,
   "metadata": {
    "collapsed": false
   },
   "outputs": [],
   "source": [
    "# Plot data\n",
    "import scipy.io\n",
    "X = scipy.io.loadmat('mlclass-ex7/ex7data1.mat')\n",
    "X = X['X']\n",
    "plt.scatter(X[:,0], X[:,1]);"
   ]
  },
  {
   "cell_type": "code",
   "execution_count": null,
   "metadata": {
    "collapsed": false
   },
   "outputs": [],
   "source": [
    "# Plot centered data and principal components\n",
    "from numpy import linalg\n",
    "# scale data\n",
    "mu = X.mean(axis=0)\n",
    "X = 1.*(X - mu)/X.std(axis=0)\n",
    "# Covariance matrix\n",
    "m = X.shape[0]\n",
    "Sigma = 1./m * np.dot(X.T, X)\n",
    "# Compute eigenvalues and eigenvectors\n",
    "s, u = linalg.eig(Sigma)\n",
    "# u[:, k] is the eigenvector corresponding to the kth eigenvalue in s\n",
    "# Eigenvalues in s aren't sorted by value\n",
    "mu = X.mean(axis=0)\n",
    "plt.scatter(X[:,0], X[:,1])\n",
    "plt.plot([mu[0],mu[0]+s[0]*u[0,0]], [mu[1], mu[1]+s[0]*u[1,0]], 'r', linewidth=2)\n",
    "plt.plot([mu[0],mu[0]+s[1]*u[0,1]], [mu[1], mu[1]+s[1]*u[1,1]], 'k', linewidth=2)\n",
    "plt.show();\n"
   ]
  },
  {
   "cell_type": "code",
   "execution_count": null,
   "metadata": {
    "collapsed": false
   },
   "outputs": [],
   "source": [
    "# Define function to project data onto lower dimensional space\n",
    "from numpy import linalg\n",
    "def project_data(X, k, scaling='standard'):\n",
    "    # scale data\n",
    "    if scaling == 'max':\n",
    "        X = 1. * X/X.max()\n",
    "    elif scaling == 'standard':\n",
    "        mu = X.mean(axis=0)\n",
    "        X = 1.*(X - mu)/X.std(axis=0)\n",
    "    # Covariance matrix\n",
    "    m = X.shape[0]\n",
    "    Sigma = 1./m * np.dot(X.T, X)\n",
    "    # Compute eigenvalues and eigenvectors\n",
    "    s, U = linalg.eig(Sigma)\n",
    "    idx = np.argsort(s)\n",
    "    idx = idx[::-1][:k]\n",
    "    U_red = U[:,idx]\n",
    "    Z = np.dot(X, U_red)\n",
    "    return Z, U_red"
   ]
  },
  {
   "cell_type": "code",
   "execution_count": null,
   "metadata": {
    "collapsed": false
   },
   "outputs": [],
   "source": [
    "Z, U_red = project_data(X, 1)\n",
    "Z[0]"
   ]
  },
  {
   "cell_type": "code",
   "execution_count": null,
   "metadata": {
    "collapsed": false
   },
   "outputs": [],
   "source": [
    "# Define function to reconstruct from projected data to original \n",
    "# higher-dimensional space\n",
    "def recover_data(Z, U_red):\n",
    "    X_approx = np.dot(Z, U_red.T)\n",
    "    return X_approx"
   ]
  },
  {
   "cell_type": "code",
   "execution_count": null,
   "metadata": {
    "collapsed": false
   },
   "outputs": [],
   "source": [
    "X_app = recover_data(Z, U_red)\n",
    "X_app[0]"
   ]
  },
  {
   "cell_type": "code",
   "execution_count": null,
   "metadata": {
    "collapsed": false
   },
   "outputs": [],
   "source": [
    "# sanity check: if the number of principal components \n",
    "# (= dimension of low dimensional space) equals the dimensions \n",
    "# of the high dimensional space, the reconstructed data, x_app,\n",
    "# must be the same as the original, X.\n",
    "z, u_red = project_data(X, k=2)\n",
    "x_app = recover_data(z, u_red)\n",
    "X[(X-x_app)>1e-15]"
   ]
  },
  {
   "cell_type": "markdown",
   "metadata": {},
   "source": [
    "# PCA for dimensional reduction in photo dataset"
   ]
  },
  {
   "cell_type": "code",
   "execution_count": null,
   "metadata": {
    "collapsed": false
   },
   "outputs": [],
   "source": [
    "# Image contains 5000 facial photos in gray scale (only one color).\n",
    "# Each photo contains 32x32 pixels. Nothe that now we have phtos in rows\n",
    "# and pixels in columns. Should we have more than one color, we would\n",
    "# need to add more columns (32x32 for each additional color)\n",
    "import scipy.io\n",
    "X = scipy.io.loadmat('mlclass-ex7/ex7faces.mat')\n",
    "X = X['X']\n",
    "print X.shape\n",
    "plt.figure(figsize=(10,10))\n",
    "#plot one photo (needs to be rotated)\n",
    "plt.imshow(X[10,:].reshape((32,32)), cmap='gray')\n",
    "plt.show();"
   ]
  },
  {
   "cell_type": "markdown",
   "metadata": {},
   "source": [
    "## We are going to use the 5000 photos (rows) to project the photos from the original 1024 dim-space (=# pixels) onto a lower dim-space of only 100 dimensions (like 10x10 pixels)"
   ]
  },
  {
   "cell_type": "code",
   "execution_count": null,
   "metadata": {
    "collapsed": false
   },
   "outputs": [],
   "source": [
    "Z, U_red=project_data(X, 100)\n",
    "print Z.shape, U_red.shape\n",
    "plt.figure(figsize=(5,5))\n",
    "#plot one principal component (needs to be rotated)\n",
    "plt.imshow(U_red[:,2].reshape((32,32)), cmap='gray')\n",
    "plt.show();"
   ]
  },
  {
   "cell_type": "code",
   "execution_count": null,
   "metadata": {
    "collapsed": false
   },
   "outputs": [],
   "source": [
    "# same photo as the first, projected in 100 dimensional space\n",
    "plt.figure(figsize=(10,10))\n",
    "plt.imshow(Z[10,:].reshape((10,10)), cmap='gray')\n",
    "plt.show();"
   ]
  },
  {
   "cell_type": "code",
   "execution_count": null,
   "metadata": {
    "collapsed": false
   },
   "outputs": [],
   "source": [
    "# reconstructed the same photo. General appeareance is kept while details are lost.\n",
    "# Note that original image required 5000x1024 components, while reconstructed image requires\n",
    "# 5000x100 (Z) + 1024x100 (U_red). That is, about 10% of the original components\n",
    "X_app = recover_data(Z, U_red)\n",
    "plt.figure(figsize=(10,10))\n",
    "plt.imshow(X_app[10,:].reshape((32,32)), cmap='gray')\n",
    "plt.show();"
   ]
  },
  {
   "cell_type": "code",
   "execution_count": null,
   "metadata": {
    "collapsed": false
   },
   "outputs": [],
   "source": [
    "# Let's see what happen if we project onto a space of the same number of dismensions\n",
    "Z, U_red=project_data(X, 1024)\n",
    "print Z.shape, U_red.shape\n",
    "plt.figure(figsize=(5,5))\n",
    "#plot one principal component (needs to be rotated)\n",
    "plt.imshow(U_red[:,2].reshape((32,32)), cmap='gray')\n",
    "plt.show();"
   ]
  },
  {
   "cell_type": "code",
   "execution_count": null,
   "metadata": {
    "collapsed": false
   },
   "outputs": [],
   "source": [
    "# reconstructed image. We do check the image is the same as the original. OK\n",
    "X_app = recover_data(Z, U_red)\n",
    "plt.figure(figsize=(10,10))\n",
    "plt.imshow(X_app[10,:].reshape((32,32)), cmap='gray')\n",
    "plt.show();"
   ]
  },
  {
   "cell_type": "markdown",
   "metadata": {},
   "source": [
    "## kmeans to photo above"
   ]
  },
  {
   "cell_type": "code",
   "execution_count": null,
   "metadata": {
    "collapsed": false
   },
   "outputs": [],
   "source": [
    "# Let's apply k-means to the above photo X[10,:]. Note that now we aren't \n",
    "# reducing the number of pixels, but the number of diferent intensities/tones\n",
    "# in the gray scale. We are going to keep only 10 different gray tones. \n",
    "import scipy.io\n",
    "X = scipy.io.loadmat('mlclass-ex7/ex7faces.mat')\n",
    "X = X['X']\n",
    "X = X[10,:].reshape((1,1024)) # otherwise shape (,1024)\n",
    "X = X.T #We want pixels in rows\n",
    "# both max and standard scaling work\n",
    "centers, indices = Kmeans(X, K=10, scale=\"max\", n_iter=1)\n",
    "indices = map(lambda x: int(x), indices)\n",
    "X_recovered = centers[indices,:]\n",
    "# We reshape the pixels from 1024 to 32x32\n",
    "X_recovered = X_recovered.reshape((32,32))\n",
    "plt.figure(figsize=(5,5))\n",
    "plt.imshow(X_recovered, cmap='gray');"
   ]
  },
  {
   "cell_type": "code",
   "execution_count": null,
   "metadata": {
    "collapsed": false
   },
   "outputs": [],
   "source": [
    "# Let's apply PCA to the bird. Reducing 3 colors (RGB) to 1 linear combination of them.\n",
    "# There are still many intesities/tones of that single color, though.\n",
    "from scipy import misc\n",
    "A = misc.imread('mlclass-ex7/bird_small.png')\n",
    "X = A.reshape((A.shape[0]*A.shape[1], A.shape[2]))\n",
    "# We must use max scaling. Standard is worse in this case\n",
    "Z, U_red = project_data(X, k=1, scaling='max')\n",
    "print Z.shape, U_red.shape\n",
    "X_app = recover_data(Z, U_red)\n",
    "print X_app.shape\n",
    "plt.figure(figsize=(5,5))\n",
    "plt.imshow(X_app.reshape((A.shape[0],A.shape[1], 3)))\n",
    "plt.show();"
   ]
  },
  {
   "cell_type": "markdown",
   "metadata": {},
   "source": [
    "## Apply K-means to a new image"
   ]
  },
  {
   "cell_type": "code",
   "execution_count": null,
   "metadata": {
    "collapsed": false
   },
   "outputs": [],
   "source": [
    "from scipy import misc\n",
    "A = misc.imread('mlclass-ex7/small_tiger.png')\n",
    "print(type(A), A.shape)\n",
    "plt.imshow(A)"
   ]
  },
  {
   "cell_type": "code",
   "execution_count": null,
   "metadata": {
    "collapsed": false
   },
   "outputs": [],
   "source": [
    "# Let reshape the array in such a way that we have all pixels (horizontal and vertical) \n",
    "# in rows and colors in columns\n",
    "m = A.shape[0]*A.shape[1]\n",
    "X = A.reshape(m, A.shape[2])\n",
    "print(type(X), X.shape)\n",
    "# Even for K=4 the recovered image is quite good\n",
    "centers, indices = Kmeans(X, K=4, scale=\"max\", n_iter=10)\n",
    "indices = map(lambda x: int(x), indices)\n",
    "X_recovered = centers[indices,:]\n",
    "X_recovered = X_recovered.reshape(A.shape[0], A.shape[1], 3)\n",
    "plt.imshow(X_recovered);"
   ]
  }
 ],
 "metadata": {
  "kernelspec": {
   "display_name": "Python 2",
   "language": "python",
   "name": "python2"
  },
  "language_info": {
   "codemirror_mode": {
    "name": "ipython",
    "version": 2
   },
   "file_extension": ".py",
   "mimetype": "text/x-python",
   "name": "python",
   "nbconvert_exporter": "python",
   "pygments_lexer": "ipython2",
   "version": "2.7.9"
  }
 },
 "nbformat": 4,
 "nbformat_minor": 0
}
